{
 "cells": [
  {
   "cell_type": "markdown",
   "id": "807220f7-5dd7-41b3-af2c-af34e960e2d5",
   "metadata": {},
   "source": [
    "Datenterm: $$\\sum_{(i,j)\\in k}(r_{ij}-\\vec{p}_i^T\\vec{q}_j)^2$$\n",
    "Matrixdarstellung: $$||R-P Q^T||_2^2$$"
   ]
  },
  {
   "cell_type": "code",
   "execution_count": 7,
   "id": "018983a0-9f27-4354-9a67-bfef26a1e871",
   "metadata": {},
   "outputs": [],
   "source": [
    "import numpy as np\n",
    "\n",
    "def cost(P, Q, R, lambda_, np, nq):\n",
    "    data_term = np.linalg.norm(R - P @ Q.T)**2\n",
    "    regularization_p = np.sum(np * np.linalg.norm(P)**2)\n",
    "    regularization_q = np.sum(nq * np.linalg.norm(Q)**2)\n",
    "    regularization_term = lambda_ * (regularization_p + regularization_q)\n",
    "    return data_term + regularization_term"
   ]
  },
  {
   "cell_type": "code",
   "execution_count": 8,
   "id": "91f3cc83-86ae-4c67-af1e-fa9bfa37822c",
   "metadata": {},
   "outputs": [],
   "source": [
    "def solveBlock_P(R, Q, I, lambda_, n_p):\n",
    "    m, n = R.shape\n",
    "    k = Q.shape[1]\n",
    "    P = np.zeros((m, k))\n",
    "    I = I.astype(bool)\n",
    "\n",
    "    for i in range(m):\n",
    "        I_i = I[i, :]\n",
    "        Q_i = Q[I_i, :]\n",
    "        R_i = R[i, I_i]\n",
    "\n",
    "        A = Q_i.T @ Q_i + lambda_ * n_p[i] * np.eye(k)\n",
    "        b = Q_i.T @ R_i\n",
    "        P[i, :] = np.linalg.solve(A, b)\n",
    "    return P\n",
    "\n",
    "def solveBlock_Q(R, P, I, lambda_, n_q):\n",
    "    m, n = R.shape\n",
    "    k = P.shape[1]\n",
    "    Q = np.zeros((n, k))\n",
    "    I = I.astype(bool)\n",
    "\n",
    "    for j in range(n):\n",
    "        I_j = I[:, j]\n",
    "        P_j = P[I_j, :]\n",
    "        R_j = R[I_j, j]\n",
    "\n",
    "        A = P_j.T @ P_j + lambda_ * n_q[j] * np.eye(k)\n",
    "        b = P_j.T @ R_j\n",
    "        Q[j, :] = np.linalg.solve(A, b)\n",
    "    return Q"
   ]
  },
  {
   "cell_type": "code",
   "execution_count": 16,
   "id": "c67a881e-bed6-469c-b9b6-c484c5bb5047",
   "metadata": {},
   "outputs": [],
   "source": [
    "def calc_rmse(R, I, P, Q):\n",
    "    R_pred = P @ Q.T\n",
    "    error = I * (R - R_pred)\n",
    "    rmse = np.sqrt(np.sum(error**2) / np.sum(I))\n",
    "    return rmse\n",
    "\n",
    "def alternating_least_squares(R, I, k=3, lambda_=0.1, max_iter=100, tolerance=1e-4):\n",
    "    m, n = R.shape\n",
    "    P = np.random.rand(m, k)\n",
    "    Q = np.random.rand(n, k)\n",
    "    n_p = np.ones(m)\n",
    "    n_q = np.ones(n)\n",
    "    rmse_history = []\n",
    "\n",
    "    for iteration in range(max_iter):\n",
    "        P = solveBlock_P(R, Q, I, lambda_, n_p)\n",
    "        Q = solveBlock_Q(R, P, I, lambda_, n_q)\n",
    "        \n",
    "        rmse = calc_rmse(R, I, P, Q)\n",
    "        rmse_history.append(rmse)\n",
    "        \n",
    "        print(f\"Iteration {iteration + 1}/{max_iter}, RMSE: {rmse:.6f}\")\n",
    "        \n",
    "        if iteration > 0 and abs(rmse_history[-1] - rmse_history[-2]) < tolerance:\n",
    "            print(\"convergence reached\")\n",
    "            break\n",
    "\n",
    "    return P, Q, rmse_history"
   ]
  },
  {
   "cell_type": "code",
   "execution_count": 19,
   "id": "5dd7fafe-96ef-4066-b25f-82c465a18f2d",
   "metadata": {},
   "outputs": [
    {
     "name": "stdout",
     "output_type": "stream",
     "text": [
      "Iteration 1/50, RMSE: 0.040180\n",
      "Iteration 2/50, RMSE: 0.037191\n",
      "Iteration 3/50, RMSE: 0.035600\n",
      "Iteration 4/50, RMSE: 0.035507\n",
      "convergence reached\n"
     ]
    },
    {
     "data": {
      "text/plain": [
       "(array([[ 3.45076918,  0.98061268, -0.42105107],\n",
       "        [ 2.99715646,  2.45869326, -1.98619753],\n",
       "        [ 1.2949067 ,  0.39992246,  3.10252177],\n",
       "        [ 1.23783583, -0.35597315,  2.42908326]]),\n",
       " array([[ 1.3544459 ,  0.1750684 , -0.25958536],\n",
       "        [ 0.90988533,  0.95361675,  0.06834295],\n",
       "        [ 0.94213165,  0.21126922,  1.18469122]]))"
      ]
     },
     "execution_count": 19,
     "metadata": {},
     "output_type": "execute_result"
    }
   ],
   "source": [
    "from utility import setup_dataset, visualize_sparsity_pattern\n",
    "\n",
    "R, I = setup_dataset(toy_ds=True)\n",
    "P, Q, rmse_history = alternating_least_squares(R, I, k=3, lambda_=0.1, max_iter=50)\n",
    "P, Q"
   ]
  },
  {
   "cell_type": "code",
   "execution_count": 20,
   "id": "7a4ceea5-6834-4a2f-b38e-30918d798f2f",
   "metadata": {},
   "outputs": [
    {
     "name": "stdout",
     "output_type": "stream",
     "text": [
      "Iteration 1/100, RMSE: 0.829587\n",
      "Iteration 2/100, RMSE: 0.748141\n",
      "Iteration 3/100, RMSE: 0.718921\n",
      "Iteration 4/100, RMSE: 0.704069\n",
      "Iteration 5/100, RMSE: 0.695263\n",
      "Iteration 6/100, RMSE: 0.689308\n",
      "Iteration 7/100, RMSE: 0.684942\n",
      "Iteration 8/100, RMSE: 0.681652\n",
      "Iteration 9/100, RMSE: 0.679154\n",
      "Iteration 10/100, RMSE: 0.677184\n",
      "Iteration 11/100, RMSE: 0.675567\n",
      "Iteration 12/100, RMSE: 0.674229\n",
      "Iteration 13/100, RMSE: 0.673113\n",
      "Iteration 14/100, RMSE: 0.672158\n",
      "Iteration 15/100, RMSE: 0.671316\n",
      "Iteration 16/100, RMSE: 0.670556\n",
      "Iteration 17/100, RMSE: 0.669860\n",
      "Iteration 18/100, RMSE: 0.669224\n",
      "Iteration 19/100, RMSE: 0.668641\n",
      "Iteration 20/100, RMSE: 0.668107\n",
      "Iteration 21/100, RMSE: 0.667614\n",
      "Iteration 22/100, RMSE: 0.667153\n",
      "Iteration 23/100, RMSE: 0.666720\n",
      "Iteration 24/100, RMSE: 0.666312\n",
      "Iteration 25/100, RMSE: 0.665929\n",
      "Iteration 26/100, RMSE: 0.665573\n",
      "Iteration 27/100, RMSE: 0.665243\n",
      "Iteration 28/100, RMSE: 0.664935\n",
      "Iteration 29/100, RMSE: 0.664649\n",
      "Iteration 30/100, RMSE: 0.664389\n",
      "Iteration 31/100, RMSE: 0.664149\n",
      "Iteration 32/100, RMSE: 0.663928\n",
      "Iteration 33/100, RMSE: 0.663723\n",
      "Iteration 34/100, RMSE: 0.663532\n",
      "Iteration 35/100, RMSE: 0.663352\n",
      "Iteration 36/100, RMSE: 0.663182\n",
      "Iteration 37/100, RMSE: 0.663021\n",
      "Iteration 38/100, RMSE: 0.662865\n",
      "Iteration 39/100, RMSE: 0.662714\n",
      "Iteration 40/100, RMSE: 0.662569\n",
      "Iteration 41/100, RMSE: 0.662430\n",
      "Iteration 42/100, RMSE: 0.662296\n",
      "Iteration 43/100, RMSE: 0.662168\n",
      "Iteration 44/100, RMSE: 0.662044\n",
      "Iteration 45/100, RMSE: 0.661923\n",
      "Iteration 46/100, RMSE: 0.661804\n",
      "Iteration 47/100, RMSE: 0.661687\n",
      "Iteration 48/100, RMSE: 0.661572\n",
      "Iteration 49/100, RMSE: 0.661458\n",
      "Iteration 50/100, RMSE: 0.661347\n",
      "Iteration 51/100, RMSE: 0.661238\n",
      "Iteration 52/100, RMSE: 0.661133\n",
      "Iteration 53/100, RMSE: 0.661032\n",
      "Iteration 54/100, RMSE: 0.660934\n",
      "convergence reached\n"
     ]
    }
   ],
   "source": [
    "R, I = setup_dataset(toy_ds=False)\n",
    "P, Q, rmse_history = alternating_least_squares(R, I, k=10, lambda_=0.1, max_iter=100)"
   ]
  },
  {
   "cell_type": "code",
   "execution_count": null,
   "id": "b1fd339f-46f1-4dad-94c2-a8665a50db2b",
   "metadata": {},
   "outputs": [],
   "source": []
  }
 ],
 "metadata": {
  "kernelspec": {
   "display_name": "Python 3 (ipykernel)",
   "language": "python",
   "name": "python3"
  },
  "language_info": {
   "codemirror_mode": {
    "name": "ipython",
    "version": 3
   },
   "file_extension": ".py",
   "mimetype": "text/x-python",
   "name": "python",
   "nbconvert_exporter": "python",
   "pygments_lexer": "ipython3",
   "version": "3.12.4"
  }
 },
 "nbformat": 4,
 "nbformat_minor": 5
}
