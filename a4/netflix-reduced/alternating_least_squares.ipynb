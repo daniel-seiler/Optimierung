{
 "cells": [
  {
   "cell_type": "markdown",
   "id": "807220f7-5dd7-41b3-af2c-af34e960e2d5",
   "metadata": {},
   "source": [
    "Datenterm: $$\\sum_{(i,j)\\in k}(r_{ij}-\\vec{p}_i^T\\vec{q}_j)^2$$\n",
    "Matrixdarstellung: $$||R-P Q^T||_2^2$$"
   ]
  },
  {
   "cell_type": "code",
   "execution_count": 1,
   "id": "018983a0-9f27-4354-9a67-bfef26a1e871",
   "metadata": {},
   "outputs": [],
   "source": [
    "import numpy as np\n",
    "\n",
    "def cost(P, Q, R, lambda_, np, nq):\n",
    "    data_term = np.linalg.norm(R - P @ Q.T)**2\n",
    "    regularization_p = np.sum(np * np.linalg.norm(P)**2)\n",
    "    regularization_q = np.sum(nq * np.linalg.norm(Q)**2)\n",
    "    regularization_term = lambda_ * (regularization_p + regularization_q)\n",
    "    return data_term + regularization_term"
   ]
  },
  {
   "cell_type": "code",
   "execution_count": 2,
   "id": "91f3cc83-86ae-4c67-af1e-fa9bfa37822c",
   "metadata": {},
   "outputs": [],
   "source": [
    "def solveBlock_P(R, Q, I, lambda_, n_p):\n",
    "    m, n = R.shape\n",
    "    k = Q.shape[1]\n",
    "    P = np.zeros((m, k))\n",
    "    I = I.astype(bool)\n",
    "\n",
    "    for i in range(m):\n",
    "        I_i = I[i, :]\n",
    "        Q_i = Q[I_i, :]\n",
    "        R_i = R[i, I_i]\n",
    "\n",
    "        A = Q_i.T @ Q_i + lambda_ * n_p[i] * np.eye(k)\n",
    "        b = Q_i.T @ R_i\n",
    "        P[i, :] = np.linalg.solve(A, b)\n",
    "    return P\n",
    "\n",
    "def solveBlock_Q(R, P, I, lambda_, n_q):\n",
    "    m, n = R.shape\n",
    "    k = P.shape[1]\n",
    "    Q = np.zeros((n, k))\n",
    "    I = I.astype(bool)\n",
    "\n",
    "    for j in range(n):\n",
    "        I_j = I[:, j]\n",
    "        P_j = P[I_j, :]\n",
    "        R_j = R[I_j, j]\n",
    "\n",
    "        A = P_j.T @ P_j + lambda_ * n_q[j] * np.eye(k)\n",
    "        b = P_j.T @ R_j\n",
    "        Q[j, :] = np.linalg.solve(A, b)\n",
    "    return Q"
   ]
  },
  {
   "cell_type": "code",
   "execution_count": 3,
   "id": "c67a881e-bed6-469c-b9b6-c484c5bb5047",
   "metadata": {},
   "outputs": [],
   "source": [
    "def calc_rmse(R, I, P, Q):\n",
    "    R_pred = P @ Q.T\n",
    "    error = I * (R - R_pred)\n",
    "    rmse = np.sqrt(np.sum(error**2) / np.sum(I))\n",
    "    return rmse\n",
    "\n",
    "def alternating_least_squares(R, I, k=3, lambda_=0.1, max_iter=100, tolerance=1e-4):\n",
    "    m, n = R.shape\n",
    "    P = np.random.rand(m, k)\n",
    "    Q = np.random.rand(n, k)\n",
    "    n_p = np.ones(m)\n",
    "    n_q = np.ones(n)\n",
    "    rmse_history = []\n",
    "\n",
    "    for iteration in range(max_iter):\n",
    "        P = solveBlock_P(R, Q, I, lambda_, n_p)\n",
    "        Q = solveBlock_Q(R, P, I, lambda_, n_q)\n",
    "        \n",
    "        rmse = calc_rmse(R, I, P, Q)\n",
    "        rmse_history.append(rmse)\n",
    "        \n",
    "        print(f\"Iteration {iteration + 1}/{max_iter}, RMSE: {rmse:.6f}\")\n",
    "        \n",
    "        if iteration > 0 and abs(rmse_history[-1] - rmse_history[-2]) < tolerance:\n",
    "            print(\"convergence reached\")\n",
    "            break\n",
    "\n",
    "    return P, Q, rmse_history"
   ]
  },
  {
   "cell_type": "code",
   "execution_count": 4,
   "id": "5dd7fafe-96ef-4066-b25f-82c465a18f2d",
   "metadata": {},
   "outputs": [
    {
     "name": "stdout",
     "output_type": "stream",
     "text": [
      "Iteration 1/50, RMSE: 0.027936\n",
      "Iteration 2/50, RMSE: 0.034818\n",
      "Iteration 3/50, RMSE: 0.033279\n",
      "Iteration 4/50, RMSE: 0.033273\n",
      "convergence reached\n"
     ]
    },
    {
     "data": {
      "text/plain": [
       "(array([[ 2.1930279 ,  1.44309202,  4.48367353],\n",
       "        [ 3.31692156,  2.15350214,  4.26301863],\n",
       "        [ 0.21864235,  4.04081638, -0.48142184],\n",
       "        [ 0.89907871,  3.26572723, -0.17479528]]),\n",
       " array([[ 0.03371364,  0.35578269,  0.9732352 ],\n",
       "        [ 0.81607216,  0.11124708,  0.46767288],\n",
       "        [ 0.03641664,  1.18586816, -0.39122294]]))"
      ]
     },
     "execution_count": 4,
     "metadata": {},
     "output_type": "execute_result"
    }
   ],
   "source": [
    "from utility import setup_dataset, visualize_sparsity_pattern\n",
    "\n",
    "R, I = setup_dataset(toy_ds=True)\n",
    "P, Q, rmse_history = alternating_least_squares(R, I, k=3, lambda_=0.1, max_iter=50)\n",
    "P, Q"
   ]
  },
  {
   "cell_type": "code",
   "execution_count": 5,
   "id": "7a4ceea5-6834-4a2f-b38e-30918d798f2f",
   "metadata": {},
   "outputs": [
    {
     "name": "stdout",
     "output_type": "stream",
     "text": [
      "Iteration 1/100, RMSE: 0.833264\n",
      "Iteration 2/100, RMSE: 0.754412\n",
      "Iteration 3/100, RMSE: 0.724516\n",
      "Iteration 4/100, RMSE: 0.707673\n",
      "Iteration 5/100, RMSE: 0.697696\n",
      "Iteration 6/100, RMSE: 0.690939\n",
      "Iteration 7/100, RMSE: 0.685797\n",
      "Iteration 8/100, RMSE: 0.681821\n",
      "Iteration 9/100, RMSE: 0.678780\n",
      "Iteration 10/100, RMSE: 0.676427\n",
      "Iteration 11/100, RMSE: 0.674560\n",
      "Iteration 12/100, RMSE: 0.673036\n",
      "Iteration 13/100, RMSE: 0.671764\n",
      "Iteration 14/100, RMSE: 0.670683\n",
      "Iteration 15/100, RMSE: 0.669738\n",
      "Iteration 16/100, RMSE: 0.668900\n",
      "Iteration 17/100, RMSE: 0.668155\n",
      "Iteration 18/100, RMSE: 0.667498\n",
      "Iteration 19/100, RMSE: 0.666919\n",
      "Iteration 20/100, RMSE: 0.666408\n",
      "Iteration 21/100, RMSE: 0.665953\n",
      "Iteration 22/100, RMSE: 0.665544\n",
      "Iteration 23/100, RMSE: 0.665175\n",
      "Iteration 24/100, RMSE: 0.664840\n",
      "Iteration 25/100, RMSE: 0.664532\n",
      "Iteration 26/100, RMSE: 0.664249\n",
      "Iteration 27/100, RMSE: 0.663988\n",
      "Iteration 28/100, RMSE: 0.663745\n",
      "Iteration 29/100, RMSE: 0.663519\n",
      "Iteration 30/100, RMSE: 0.663307\n",
      "Iteration 31/100, RMSE: 0.663105\n",
      "Iteration 32/100, RMSE: 0.662913\n",
      "Iteration 33/100, RMSE: 0.662727\n",
      "Iteration 34/100, RMSE: 0.662549\n",
      "Iteration 35/100, RMSE: 0.662380\n",
      "Iteration 36/100, RMSE: 0.662222\n",
      "Iteration 37/100, RMSE: 0.662073\n",
      "Iteration 38/100, RMSE: 0.661930\n",
      "Iteration 39/100, RMSE: 0.661793\n",
      "Iteration 40/100, RMSE: 0.661659\n",
      "Iteration 41/100, RMSE: 0.661528\n",
      "Iteration 42/100, RMSE: 0.661398\n",
      "Iteration 43/100, RMSE: 0.661271\n",
      "Iteration 44/100, RMSE: 0.661147\n",
      "Iteration 45/100, RMSE: 0.661028\n",
      "Iteration 46/100, RMSE: 0.660914\n",
      "Iteration 47/100, RMSE: 0.660805\n",
      "Iteration 48/100, RMSE: 0.660702\n",
      "Iteration 49/100, RMSE: 0.660605\n",
      "convergence reached\n"
     ]
    }
   ],
   "source": [
    "R, I = setup_dataset(toy_ds=False)\n",
    "P, Q, rmse_history = alternating_least_squares(R, I, k=10, lambda_=0.1, max_iter=100)"
   ]
  },
  {
   "cell_type": "code",
   "execution_count": null,
   "id": "b1fd339f-46f1-4dad-94c2-a8665a50db2b",
   "metadata": {},
   "outputs": [],
   "source": []
  }
 ],
 "metadata": {
  "kernelspec": {
   "display_name": "Python 3 (ipykernel)",
   "language": "python",
   "name": "python3"
  },
  "language_info": {
   "codemirror_mode": {
    "name": "ipython",
    "version": 3
   },
   "file_extension": ".py",
   "mimetype": "text/x-python",
   "name": "python",
   "nbconvert_exporter": "python",
   "pygments_lexer": "ipython3",
   "version": "3.10.14"
  }
 },
 "nbformat": 4,
 "nbformat_minor": 5
}
