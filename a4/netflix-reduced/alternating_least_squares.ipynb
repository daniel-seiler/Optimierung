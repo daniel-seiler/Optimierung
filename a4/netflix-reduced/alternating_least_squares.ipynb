{
 "cells": [
  {
   "cell_type": "markdown",
   "id": "807220f7-5dd7-41b3-af2c-af34e960e2d5",
   "metadata": {},
   "source": [
    "Datenterm: $$\\sum_{(i,j)\\in k}(r_{ij}-\\vec{p}_i^T\\vec{q}_j)^2$$\n",
    "Matrixdarstellung: $$||R-P Q^T||_2^2$$"
   ]
  },
  {
   "cell_type": "code",
   "execution_count": 1,
   "id": "018983a0-9f27-4354-9a67-bfef26a1e871",
   "metadata": {},
   "outputs": [],
   "source": [
    "import numpy as np\n",
    "\n",
    "def cost(P, Q, R, lambda_, np, nq):\n",
    "    data_term = np.linalg.norm(R - P @ Q.T)**2\n",
    "    regularization_p = np.sum(np * np.linalg.norm(P)**2)\n",
    "    regularization_q = np.sum(nq * np.linalg.norm(Q)**2)\n",
    "    regularization_term = lambda_ * (regularization_p + regularization_q)\n",
    "    return data_term + regularization_term"
   ]
  },
  {
   "cell_type": "code",
   "execution_count": 2,
   "id": "91f3cc83-86ae-4c67-af1e-fa9bfa37822c",
   "metadata": {},
   "outputs": [],
   "source": [
    "def solveBlock_P(R, Q, I, lambda_, n_p):\n",
    "    m, n = R.shape\n",
    "    k = Q.shape[1]\n",
    "    P = np.zeros((m, k))\n",
    "    I = I.astype(bool)\n",
    "\n",
    "    for i in range(m):\n",
    "        I_i = I[i, :]\n",
    "        Q_i = Q[I_i, :]\n",
    "        R_i = R[i, I_i]\n",
    "\n",
    "        A = Q_i.T @ Q_i + lambda_ * n_p[i] * np.eye(k)\n",
    "        b = Q_i.T @ R_i\n",
    "        P[i, :] = np.linalg.solve(A, b)\n",
    "    return P\n",
    "\n",
    "def solveBlock_Q(R, P, I, lambda_, n_q):\n",
    "    m, n = R.shape\n",
    "    k = P.shape[1]\n",
    "    Q = np.zeros((n, k))\n",
    "    I = I.astype(bool)\n",
    "\n",
    "    for j in range(n):\n",
    "        I_j = I[:, j]\n",
    "        P_j = P[I_j, :]\n",
    "        R_j = R[I_j, j]\n",
    "\n",
    "        A = P_j.T @ P_j + lambda_ * n_q[j] * np.eye(k)\n",
    "        b = P_j.T @ R_j\n",
    "        Q[j, :] = np.linalg.solve(A, b)\n",
    "    return Q"
   ]
  },
  {
   "cell_type": "code",
   "execution_count": 3,
   "id": "c67a881e-bed6-469c-b9b6-c484c5bb5047",
   "metadata": {},
   "outputs": [],
   "source": [
    "def calc_rmse(R, I, P, Q):\n",
    "    R_pred = P @ Q.T\n",
    "    error = I * (R - R_pred)\n",
    "    rmse = np.sqrt(np.sum(error**2) / np.sum(I))\n",
    "    return rmse\n",
    "\n",
    "def alternating_least_squares(R, I, k=3, lambda_=0.1, max_iter=100, tolerance=1e-4):\n",
    "    m, n = R.shape\n",
    "    P = np.random.rand(m, k)\n",
    "    Q = np.random.rand(n, k)\n",
    "    n_p = np.ones(m)\n",
    "    n_q = np.ones(n)\n",
    "    rmse_history = []\n",
    "\n",
    "    for iteration in range(max_iter):\n",
    "        P = solveBlock_P(R, Q, I, lambda_, n_p)\n",
    "        Q = solveBlock_Q(R, P, I, lambda_, n_q)\n",
    "        \n",
    "        rmse = calc_rmse(R, I, P, Q)\n",
    "        rmse_history.append(rmse)\n",
    "        \n",
    "        print(f\"Iteration {iteration + 1}/{max_iter}, RMSE: {rmse:.6f}\")\n",
    "        \n",
    "        if iteration > 0 and abs(rmse_history[-1] - rmse_history[-2]) < tolerance:\n",
    "            print(\"convergence reached\")\n",
    "            break\n",
    "\n",
    "    return P, Q, rmse_history"
   ]
  },
  {
   "cell_type": "code",
   "execution_count": 4,
   "id": "5dd7fafe-96ef-4066-b25f-82c465a18f2d",
   "metadata": {},
   "outputs": [
    {
     "name": "stdout",
     "output_type": "stream",
     "text": [
      "Iteration 1/50, RMSE: 0.044326\n",
      "Iteration 2/50, RMSE: 0.038097\n",
      "Iteration 3/50, RMSE: 0.035515\n",
      "Iteration 4/50, RMSE: 0.034847\n",
      "Iteration 5/50, RMSE: 0.035041\n",
      "Iteration 6/50, RMSE: 0.035384\n",
      "Iteration 7/50, RMSE: 0.035695\n",
      "Iteration 8/50, RMSE: 0.036008\n",
      "Iteration 9/50, RMSE: 0.036361\n",
      "Iteration 10/50, RMSE: 0.036768\n",
      "Iteration 11/50, RMSE: 0.037221\n",
      "Iteration 12/50, RMSE: 0.037708\n",
      "Iteration 13/50, RMSE: 0.038217\n",
      "Iteration 14/50, RMSE: 0.038738\n",
      "Iteration 15/50, RMSE: 0.039265\n",
      "Iteration 16/50, RMSE: 0.039791\n",
      "Iteration 17/50, RMSE: 0.040314\n",
      "Iteration 18/50, RMSE: 0.040830\n",
      "Iteration 19/50, RMSE: 0.041338\n",
      "Iteration 20/50, RMSE: 0.041836\n",
      "Iteration 21/50, RMSE: 0.042323\n",
      "Iteration 22/50, RMSE: 0.042799\n",
      "Iteration 23/50, RMSE: 0.043262\n",
      "Iteration 24/50, RMSE: 0.043712\n",
      "Iteration 25/50, RMSE: 0.044149\n",
      "Iteration 26/50, RMSE: 0.044573\n",
      "Iteration 27/50, RMSE: 0.044983\n",
      "Iteration 28/50, RMSE: 0.045380\n",
      "Iteration 29/50, RMSE: 0.045763\n",
      "Iteration 30/50, RMSE: 0.046132\n",
      "Iteration 31/50, RMSE: 0.046489\n",
      "Iteration 32/50, RMSE: 0.046833\n",
      "Iteration 33/50, RMSE: 0.047163\n",
      "Iteration 34/50, RMSE: 0.047482\n",
      "Iteration 35/50, RMSE: 0.047788\n",
      "Iteration 36/50, RMSE: 0.048082\n",
      "Iteration 37/50, RMSE: 0.048365\n",
      "Iteration 38/50, RMSE: 0.048637\n",
      "Iteration 39/50, RMSE: 0.048898\n",
      "Iteration 40/50, RMSE: 0.049148\n",
      "Iteration 41/50, RMSE: 0.049388\n",
      "Iteration 42/50, RMSE: 0.049619\n",
      "Iteration 43/50, RMSE: 0.049840\n",
      "Iteration 44/50, RMSE: 0.050051\n",
      "Iteration 45/50, RMSE: 0.050254\n",
      "Iteration 46/50, RMSE: 0.050449\n",
      "Iteration 47/50, RMSE: 0.050635\n",
      "Iteration 48/50, RMSE: 0.050814\n",
      "Iteration 49/50, RMSE: 0.050985\n",
      "Iteration 50/50, RMSE: 0.051148\n"
     ]
    },
    {
     "data": {
      "text/plain": [
       "(array([[ 1.69663395, -0.01471549,  1.50488958],\n",
       "        [ 1.6130473 ,  0.92025477,  1.65421976],\n",
       "        [ 1.65016947,  0.31767189, -1.16345491],\n",
       "        [ 1.36917202,  0.3437069 , -0.84398386]]),\n",
       " array([[ 1.61664086,  0.01065227,  1.43847342],\n",
       "        [ 1.27398087,  0.86872786,  1.2411596 ],\n",
       "        [ 1.89467552,  0.37170304, -1.44588282]]))"
      ]
     },
     "execution_count": 4,
     "metadata": {},
     "output_type": "execute_result"
    }
   ],
   "source": [
    "from utility import setup_dataset, visualize_sparsity_pattern\n",
    "\n",
    "R, I = setup_dataset(toy_ds=True)\n",
    "P, Q, rmse_history = alternating_least_squares(R, I, k=3, lambda_=0.1, max_iter=50)\n",
    "P, Q"
   ]
  },
  {
   "cell_type": "code",
   "execution_count": 5,
   "id": "7a4ceea5-6834-4a2f-b38e-30918d798f2f",
   "metadata": {},
   "outputs": [
    {
     "name": "stdout",
     "output_type": "stream",
     "text": [
      "Iteration 1/100, RMSE: 0.837368\n",
      "Iteration 2/100, RMSE: 0.750451\n",
      "Iteration 3/100, RMSE: 0.718357\n",
      "Iteration 4/100, RMSE: 0.702993\n",
      "Iteration 5/100, RMSE: 0.694008\n",
      "Iteration 6/100, RMSE: 0.688124\n",
      "Iteration 7/100, RMSE: 0.684073\n",
      "Iteration 8/100, RMSE: 0.681074\n",
      "Iteration 9/100, RMSE: 0.678723\n",
      "Iteration 10/100, RMSE: 0.676816\n",
      "Iteration 11/100, RMSE: 0.675212\n",
      "Iteration 12/100, RMSE: 0.673845\n",
      "Iteration 13/100, RMSE: 0.672668\n",
      "Iteration 14/100, RMSE: 0.671642\n",
      "Iteration 15/100, RMSE: 0.670743\n",
      "Iteration 16/100, RMSE: 0.669952\n",
      "Iteration 17/100, RMSE: 0.669243\n",
      "Iteration 18/100, RMSE: 0.668592\n",
      "Iteration 19/100, RMSE: 0.667986\n",
      "Iteration 20/100, RMSE: 0.667416\n",
      "Iteration 21/100, RMSE: 0.666873\n",
      "Iteration 22/100, RMSE: 0.666359\n",
      "Iteration 23/100, RMSE: 0.665885\n",
      "Iteration 24/100, RMSE: 0.665452\n",
      "Iteration 25/100, RMSE: 0.665059\n",
      "Iteration 26/100, RMSE: 0.664703\n",
      "Iteration 27/100, RMSE: 0.664377\n",
      "Iteration 28/100, RMSE: 0.664078\n",
      "Iteration 29/100, RMSE: 0.663810\n",
      "Iteration 30/100, RMSE: 0.663565\n",
      "Iteration 31/100, RMSE: 0.663339\n",
      "Iteration 32/100, RMSE: 0.663126\n",
      "Iteration 33/100, RMSE: 0.662922\n",
      "Iteration 34/100, RMSE: 0.662726\n",
      "Iteration 35/100, RMSE: 0.662542\n",
      "Iteration 36/100, RMSE: 0.662367\n",
      "Iteration 37/100, RMSE: 0.662202\n",
      "Iteration 38/100, RMSE: 0.662045\n",
      "Iteration 39/100, RMSE: 0.661897\n",
      "Iteration 40/100, RMSE: 0.661759\n",
      "Iteration 41/100, RMSE: 0.661629\n",
      "Iteration 42/100, RMSE: 0.661508\n",
      "Iteration 43/100, RMSE: 0.661394\n",
      "Iteration 44/100, RMSE: 0.661287\n",
      "Iteration 45/100, RMSE: 0.661186\n",
      "Iteration 46/100, RMSE: 0.661090\n",
      "convergence reached\n"
     ]
    }
   ],
   "source": [
    "R, I = setup_dataset(toy_ds=False)\n",
    "P, Q, rmse_history = alternating_least_squares(R, I, k=10, lambda_=0.1, max_iter=100)"
   ]
  },
  {
   "cell_type": "code",
   "execution_count": null,
   "id": "b1fd339f-46f1-4dad-94c2-a8665a50db2b",
   "metadata": {},
   "outputs": [],
   "source": []
  }
 ],
 "metadata": {
  "kernelspec": {
   "display_name": "Python 3 (ipykernel)",
   "language": "python",
   "name": "python3"
  },
  "language_info": {
   "codemirror_mode": {
    "name": "ipython",
    "version": 3
   },
   "file_extension": ".py",
   "mimetype": "text/x-python",
   "name": "python",
   "nbconvert_exporter": "python",
   "pygments_lexer": "ipython3",
   "version": "3.12.4"
  }
 },
 "nbformat": 4,
 "nbformat_minor": 5
}
