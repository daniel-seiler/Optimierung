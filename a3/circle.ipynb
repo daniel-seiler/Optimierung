{
 "cells": [
  {
   "cell_type": "code",
   "id": "initial_id",
   "metadata": {
    "ExecuteTime": {
     "end_time": "2025-01-11T00:22:06.066374Z",
     "start_time": "2025-01-11T00:22:05.686882Z"
    }
   },
   "source": [
    "import numpy as np\n",
    "import matplotlib.pyplot as plt\n",
    "\n",
    "def generate_noisy_circle_points(r, n_points, noise_variance):\n",
    "    angles = np.random.uniform(0, 2 * np.pi, n_points)\n",
    "    noise = np.random.normal(0, np.sqrt(noise_variance), (n_points, 2))\n",
    "\n",
    "    x = r * np.cos(angles) + noise[:, 0]\n",
    "    y = r * np.sin(angles) + noise[:, 1]\n",
    "\n",
    "    return x, y\n",
    "\n",
    "# Parameter\n",
    "radius = 2\n",
    "n_points = 50\n",
    "noise_variance = 0.1\n",
    "\n",
    "x, y = generate_noisy_circle_points(radius, n_points, noise_variance)\n",
    "\n",
    "plt.scatter(x, y)\n",
    "plt.show()\n"
   ],
   "outputs": [
    {
     "ename": "AttributeError",
     "evalue": "'numpy.ufunc' object has no attribute '__qualname__'",
     "output_type": "error",
     "traceback": [
      "\u001B[0;31m---------------------------------------------------------------------------\u001B[0m",
      "\u001B[0;31mAttributeError\u001B[0m                            Traceback (most recent call last)",
      "Cell \u001B[0;32mIn[5], line 2\u001B[0m\n\u001B[1;32m      1\u001B[0m \u001B[38;5;28;01mimport\u001B[39;00m \u001B[38;5;21;01mnumpy\u001B[39;00m \u001B[38;5;28;01mas\u001B[39;00m \u001B[38;5;21;01mnp\u001B[39;00m\n\u001B[0;32m----> 2\u001B[0m \u001B[38;5;28;01mimport\u001B[39;00m \u001B[38;5;21;01mmatplotlib\u001B[39;00m\u001B[38;5;21;01m.\u001B[39;00m\u001B[38;5;21;01mpyplot\u001B[39;00m \u001B[38;5;28;01mas\u001B[39;00m \u001B[38;5;21;01mplt\u001B[39;00m\n\u001B[1;32m      4\u001B[0m \u001B[38;5;28;01mdef\u001B[39;00m \u001B[38;5;21mgenerate_noisy_circle_points\u001B[39m(r, n_points, noise_variance):\n\u001B[1;32m      5\u001B[0m     \u001B[38;5;66;03m# Zufällige Winkel im Bereich [0, 2π)\u001B[39;00m\n\u001B[1;32m      6\u001B[0m     angles \u001B[38;5;241m=\u001B[39m np\u001B[38;5;241m.\u001B[39mrandom\u001B[38;5;241m.\u001B[39muniform(\u001B[38;5;241m0\u001B[39m, \u001B[38;5;241m2\u001B[39m \u001B[38;5;241m*\u001B[39m np\u001B[38;5;241m.\u001B[39mpi, n_points)\n",
      "File \u001B[0;32m~/miniconda3/lib/python3.12/site-packages/matplotlib/__init__.py:997\u001B[0m\n\u001B[1;32m    992\u001B[0m     _log\u001B[38;5;241m.\u001B[39mdebug(\u001B[38;5;124m'\u001B[39m\u001B[38;5;124mloaded rc file \u001B[39m\u001B[38;5;132;01m%s\u001B[39;00m\u001B[38;5;124m'\u001B[39m, fname)\n\u001B[1;32m    994\u001B[0m     \u001B[38;5;28;01mreturn\u001B[39;00m config\n\u001B[0;32m--> 997\u001B[0m rcParamsDefault \u001B[38;5;241m=\u001B[39m _rc_params_in_file(\n\u001B[1;32m    998\u001B[0m     cbook\u001B[38;5;241m.\u001B[39m_get_data_path(\u001B[38;5;124m\"\u001B[39m\u001B[38;5;124mmatplotlibrc\u001B[39m\u001B[38;5;124m\"\u001B[39m),\n\u001B[1;32m    999\u001B[0m     \u001B[38;5;66;03m# Strip leading comment.\u001B[39;00m\n\u001B[1;32m   1000\u001B[0m     transform\u001B[38;5;241m=\u001B[39m\u001B[38;5;28;01mlambda\u001B[39;00m line: line[\u001B[38;5;241m1\u001B[39m:] \u001B[38;5;28;01mif\u001B[39;00m line\u001B[38;5;241m.\u001B[39mstartswith(\u001B[38;5;124m\"\u001B[39m\u001B[38;5;124m#\u001B[39m\u001B[38;5;124m\"\u001B[39m) \u001B[38;5;28;01melse\u001B[39;00m line,\n\u001B[1;32m   1001\u001B[0m     fail_on_error\u001B[38;5;241m=\u001B[39m\u001B[38;5;28;01mTrue\u001B[39;00m)\n\u001B[1;32m   1002\u001B[0m rcParamsDefault\u001B[38;5;241m.\u001B[39m_update_raw(rcsetup\u001B[38;5;241m.\u001B[39m_hardcoded_defaults)\n\u001B[1;32m   1003\u001B[0m rcParamsDefault\u001B[38;5;241m.\u001B[39m_ensure_has_backend()\n",
      "File \u001B[0;32m~/miniconda3/lib/python3.12/site-packages/matplotlib/__init__.py:934\u001B[0m, in \u001B[0;36m_rc_params_in_file\u001B[0;34m(fname, transform, fail_on_error)\u001B[0m\n\u001B[1;32m    932\u001B[0m \u001B[38;5;28;01mif\u001B[39;00m key \u001B[38;5;129;01min\u001B[39;00m rcsetup\u001B[38;5;241m.\u001B[39m_validators:\n\u001B[1;32m    933\u001B[0m     \u001B[38;5;28;01mif\u001B[39;00m fail_on_error:\n\u001B[0;32m--> 934\u001B[0m         config[key] \u001B[38;5;241m=\u001B[39m val  \u001B[38;5;66;03m# try to convert to proper type or raise\u001B[39;00m\n\u001B[1;32m    935\u001B[0m     \u001B[38;5;28;01melse\u001B[39;00m:\n\u001B[1;32m    936\u001B[0m         \u001B[38;5;28;01mtry\u001B[39;00m:\n",
      "File \u001B[0;32m~/miniconda3/lib/python3.12/site-packages/matplotlib/__init__.py:769\u001B[0m, in \u001B[0;36mRcParams.__setitem__\u001B[0;34m(self, key, val)\u001B[0m\n\u001B[1;32m    767\u001B[0m             \u001B[38;5;28;01mreturn\u001B[39;00m\n\u001B[1;32m    768\u001B[0m \u001B[38;5;28;01mtry\u001B[39;00m:\n\u001B[0;32m--> 769\u001B[0m     cval \u001B[38;5;241m=\u001B[39m \u001B[38;5;28mself\u001B[39m\u001B[38;5;241m.\u001B[39mvalidate[key](val)\n\u001B[1;32m    770\u001B[0m \u001B[38;5;28;01mexcept\u001B[39;00m \u001B[38;5;167;01mValueError\u001B[39;00m \u001B[38;5;28;01mas\u001B[39;00m ve:\n\u001B[1;32m    771\u001B[0m     \u001B[38;5;28;01mraise\u001B[39;00m \u001B[38;5;167;01mValueError\u001B[39;00m(\u001B[38;5;124mf\u001B[39m\u001B[38;5;124m\"\u001B[39m\u001B[38;5;124mKey \u001B[39m\u001B[38;5;132;01m{\u001B[39;00mkey\u001B[38;5;132;01m}\u001B[39;00m\u001B[38;5;124m: \u001B[39m\u001B[38;5;132;01m{\u001B[39;00mve\u001B[38;5;132;01m}\u001B[39;00m\u001B[38;5;124m\"\u001B[39m) \u001B[38;5;28;01mfrom\u001B[39;00m \u001B[38;5;28;01mNone\u001B[39;00m\n",
      "File \u001B[0;32m~/miniconda3/lib/python3.12/site-packages/matplotlib/rcsetup.py:342\u001B[0m, in \u001B[0;36mvalidate_color\u001B[0;34m(s)\u001B[0m\n\u001B[1;32m    339\u001B[0m         \u001B[38;5;28;01mif\u001B[39;00m is_color_like(stmp):\n\u001B[1;32m    340\u001B[0m             \u001B[38;5;28;01mreturn\u001B[39;00m stmp\n\u001B[0;32m--> 342\u001B[0m \u001B[38;5;28;01mif\u001B[39;00m is_color_like(s):\n\u001B[1;32m    343\u001B[0m     \u001B[38;5;28;01mreturn\u001B[39;00m s\n\u001B[1;32m    345\u001B[0m \u001B[38;5;66;03m# If it is still valid, it must be a tuple (as a string from matplotlibrc).\u001B[39;00m\n",
      "File \u001B[0;32m~/miniconda3/lib/python3.12/site-packages/matplotlib/colors.py:229\u001B[0m, in \u001B[0;36mis_color_like\u001B[0;34m(c)\u001B[0m\n\u001B[1;32m    227\u001B[0m     \u001B[38;5;28;01mreturn\u001B[39;00m \u001B[38;5;28;01mTrue\u001B[39;00m\n\u001B[1;32m    228\u001B[0m \u001B[38;5;28;01mtry\u001B[39;00m:\n\u001B[0;32m--> 229\u001B[0m     to_rgba(c)\n\u001B[1;32m    230\u001B[0m \u001B[38;5;28;01mexcept\u001B[39;00m (\u001B[38;5;167;01mTypeError\u001B[39;00m, \u001B[38;5;167;01mValueError\u001B[39;00m):\n\u001B[1;32m    231\u001B[0m     \u001B[38;5;28;01mreturn\u001B[39;00m \u001B[38;5;28;01mFalse\u001B[39;00m\n",
      "File \u001B[0;32m~/miniconda3/lib/python3.12/site-packages/matplotlib/colors.py:316\u001B[0m, in \u001B[0;36mto_rgba\u001B[0;34m(c, alpha)\u001B[0m\n\u001B[1;32m    314\u001B[0m     rgba \u001B[38;5;241m=\u001B[39m \u001B[38;5;28;01mNone\u001B[39;00m\n\u001B[1;32m    315\u001B[0m \u001B[38;5;28;01mif\u001B[39;00m rgba \u001B[38;5;129;01mis\u001B[39;00m \u001B[38;5;28;01mNone\u001B[39;00m:  \u001B[38;5;66;03m# Suppress exception chaining of cache lookup failure.\u001B[39;00m\n\u001B[0;32m--> 316\u001B[0m     rgba \u001B[38;5;241m=\u001B[39m _to_rgba_no_colorcycle(c, alpha)\n\u001B[1;32m    317\u001B[0m     \u001B[38;5;28;01mtry\u001B[39;00m:\n\u001B[1;32m    318\u001B[0m         _colors_full_map\u001B[38;5;241m.\u001B[39mcache[c, alpha] \u001B[38;5;241m=\u001B[39m rgba\n",
      "File \u001B[0;32m~/miniconda3/lib/python3.12/site-packages/matplotlib/colors.py:338\u001B[0m, in \u001B[0;36m_to_rgba_no_colorcycle\u001B[0;34m(c, alpha)\u001B[0m\n\u001B[1;32m    336\u001B[0m     \u001B[38;5;28;01mraise\u001B[39;00m \u001B[38;5;167;01mValueError\u001B[39;00m(\u001B[38;5;124m\"\u001B[39m\u001B[38;5;124m'\u001B[39m\u001B[38;5;124malpha\u001B[39m\u001B[38;5;124m'\u001B[39m\u001B[38;5;124m must be between 0 and 1, inclusive\u001B[39m\u001B[38;5;124m\"\u001B[39m)\n\u001B[1;32m    337\u001B[0m orig_c \u001B[38;5;241m=\u001B[39m c\n\u001B[0;32m--> 338\u001B[0m \u001B[38;5;28;01mif\u001B[39;00m c \u001B[38;5;129;01mis\u001B[39;00m np\u001B[38;5;241m.\u001B[39mma\u001B[38;5;241m.\u001B[39mmasked:\n\u001B[1;32m    339\u001B[0m     \u001B[38;5;28;01mreturn\u001B[39;00m (\u001B[38;5;241m0.\u001B[39m, \u001B[38;5;241m0.\u001B[39m, \u001B[38;5;241m0.\u001B[39m, \u001B[38;5;241m0.\u001B[39m)\n\u001B[1;32m    340\u001B[0m \u001B[38;5;28;01mif\u001B[39;00m \u001B[38;5;28misinstance\u001B[39m(c, \u001B[38;5;28mstr\u001B[39m):\n",
      "File \u001B[0;32m~/miniconda3/lib/python3.12/site-packages/numpy/__init__.py:346\u001B[0m, in \u001B[0;36m__getattr__\u001B[0;34m(attr)\u001B[0m\n\u001B[1;32m    344\u001B[0m     \u001B[38;5;28;01mreturn\u001B[39;00m polynomial\n\u001B[1;32m    345\u001B[0m \u001B[38;5;28;01melif\u001B[39;00m attr \u001B[38;5;241m==\u001B[39m \u001B[38;5;124m\"\u001B[39m\u001B[38;5;124mma\u001B[39m\u001B[38;5;124m\"\u001B[39m:\n\u001B[0;32m--> 346\u001B[0m     \u001B[38;5;28;01mimport\u001B[39;00m \u001B[38;5;21;01mnumpy\u001B[39;00m\u001B[38;5;21;01m.\u001B[39;00m\u001B[38;5;21;01mma\u001B[39;00m \u001B[38;5;28;01mas\u001B[39;00m \u001B[38;5;21;01mma\u001B[39;00m\n\u001B[1;32m    347\u001B[0m     \u001B[38;5;28;01mreturn\u001B[39;00m ma\n\u001B[1;32m    348\u001B[0m \u001B[38;5;28;01melif\u001B[39;00m attr \u001B[38;5;241m==\u001B[39m \u001B[38;5;124m\"\u001B[39m\u001B[38;5;124mctypeslib\u001B[39m\u001B[38;5;124m\"\u001B[39m:\n",
      "File \u001B[0;32m~/miniconda3/lib/python3.12/site-packages/numpy/ma/__init__.py:42\u001B[0m\n\u001B[1;32m      1\u001B[0m \u001B[38;5;124;03m\"\"\"\u001B[39;00m\n\u001B[1;32m      2\u001B[0m \u001B[38;5;124;03m=============\u001B[39;00m\n\u001B[1;32m      3\u001B[0m \u001B[38;5;124;03mMasked Arrays\u001B[39;00m\n\u001B[0;32m   (...)\u001B[0m\n\u001B[1;32m     40\u001B[0m \n\u001B[1;32m     41\u001B[0m \u001B[38;5;124;03m\"\"\"\u001B[39;00m\n\u001B[0;32m---> 42\u001B[0m \u001B[38;5;28;01mfrom\u001B[39;00m \u001B[38;5;21;01m.\u001B[39;00m \u001B[38;5;28;01mimport\u001B[39;00m core\n\u001B[1;32m     43\u001B[0m \u001B[38;5;28;01mfrom\u001B[39;00m \u001B[38;5;21;01m.\u001B[39;00m\u001B[38;5;21;01mcore\u001B[39;00m \u001B[38;5;28;01mimport\u001B[39;00m \u001B[38;5;241m*\u001B[39m\n\u001B[1;32m     45\u001B[0m \u001B[38;5;28;01mfrom\u001B[39;00m \u001B[38;5;21;01m.\u001B[39;00m \u001B[38;5;28;01mimport\u001B[39;00m extras\n",
      "File \u001B[0;32m~/miniconda3/lib/python3.12/site-packages/numpy/ma/core.py:1246\u001B[0m\n\u001B[1;32m   1242\u001B[0m         \u001B[38;5;28;01mreturn\u001B[39;00m masked_result\n\u001B[1;32m   1245\u001B[0m \u001B[38;5;66;03m# Unary ufuncs\u001B[39;00m\n\u001B[0;32m-> 1246\u001B[0m exp \u001B[38;5;241m=\u001B[39m _MaskedUnaryOperation(umath\u001B[38;5;241m.\u001B[39mexp)\n\u001B[1;32m   1247\u001B[0m conjugate \u001B[38;5;241m=\u001B[39m _MaskedUnaryOperation(umath\u001B[38;5;241m.\u001B[39mconjugate)\n\u001B[1;32m   1248\u001B[0m sin \u001B[38;5;241m=\u001B[39m _MaskedUnaryOperation(umath\u001B[38;5;241m.\u001B[39msin)\n",
      "File \u001B[0;32m~/miniconda3/lib/python3.12/site-packages/numpy/ma/core.py:967\u001B[0m, in \u001B[0;36m_MaskedUnaryOperation.__init__\u001B[0;34m(self, mufunc, fill, domain)\u001B[0m\n\u001B[1;32m    966\u001B[0m \u001B[38;5;28;01mdef\u001B[39;00m \u001B[38;5;21m__init__\u001B[39m(\u001B[38;5;28mself\u001B[39m, mufunc, fill\u001B[38;5;241m=\u001B[39m\u001B[38;5;241m0\u001B[39m, domain\u001B[38;5;241m=\u001B[39m\u001B[38;5;28;01mNone\u001B[39;00m):\n\u001B[0;32m--> 967\u001B[0m     \u001B[38;5;28msuper\u001B[39m()\u001B[38;5;241m.\u001B[39m\u001B[38;5;21m__init__\u001B[39m(mufunc)\n\u001B[1;32m    968\u001B[0m     \u001B[38;5;28mself\u001B[39m\u001B[38;5;241m.\u001B[39mfill \u001B[38;5;241m=\u001B[39m fill\n\u001B[1;32m    969\u001B[0m     \u001B[38;5;28mself\u001B[39m\u001B[38;5;241m.\u001B[39mdomain \u001B[38;5;241m=\u001B[39m domain\n",
      "File \u001B[0;32m~/miniconda3/lib/python3.12/site-packages/numpy/ma/core.py:942\u001B[0m, in \u001B[0;36m_MaskedUFunc.__init__\u001B[0;34m(self, ufunc)\u001B[0m\n\u001B[1;32m    940\u001B[0m \u001B[38;5;28mself\u001B[39m\u001B[38;5;241m.\u001B[39m\u001B[38;5;18m__doc__\u001B[39m \u001B[38;5;241m=\u001B[39m ufunc\u001B[38;5;241m.\u001B[39m\u001B[38;5;18m__doc__\u001B[39m\n\u001B[1;32m    941\u001B[0m \u001B[38;5;28mself\u001B[39m\u001B[38;5;241m.\u001B[39m\u001B[38;5;18m__name__\u001B[39m \u001B[38;5;241m=\u001B[39m ufunc\u001B[38;5;241m.\u001B[39m\u001B[38;5;18m__name__\u001B[39m\n\u001B[0;32m--> 942\u001B[0m \u001B[38;5;28mself\u001B[39m\u001B[38;5;241m.\u001B[39m\u001B[38;5;18m__qualname__\u001B[39m \u001B[38;5;241m=\u001B[39m ufunc\u001B[38;5;241m.\u001B[39m\u001B[38;5;18m__qualname__\u001B[39m\n",
      "\u001B[0;31mAttributeError\u001B[0m: 'numpy.ufunc' object has no attribute '__qualname__'"
     ]
    }
   ],
   "execution_count": 5
  },
  {
   "cell_type": "code",
   "execution_count": null,
   "id": "488a85d7-114d-4aca-a6f1-faa7e5480f39",
   "metadata": {},
   "outputs": [],
   "source": []
  }
 ],
 "metadata": {
  "kernelspec": {
   "display_name": "Python 3 (ipykernel)",
   "language": "python",
   "name": "python3"
  },
  "language_info": {
   "codemirror_mode": {
    "name": "ipython",
    "version": 3
   },
   "file_extension": ".py",
   "mimetype": "text/x-python",
   "name": "python",
   "nbconvert_exporter": "python",
   "pygments_lexer": "ipython3",
   "version": "3.12.4"
  }
 },
 "nbformat": 4,
 "nbformat_minor": 5
}
