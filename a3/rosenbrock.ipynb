{
 "cells": [
  {
   "cell_type": "markdown",
   "id": "42ab99f2-bb28-4983-a5ed-71e33f963d8c",
   "metadata": {},
   "source": [
    "Hessematrix: \n",
    "$$\n",
    "\\begin{pmatrix}\n",
    "1200x^2-400y+2 & -400x \\\\\n",
    "0 & 200\n",
    "\\end{pmatrix}\n",
    "$$\n",
    "Punkt $(1, 1)^T$ einsetzen:\n",
    "$$\n",
    "\\begin{pmatrix}\n",
    "802 & -400 \\\\\n",
    "0 & 200\n",
    "\\end{pmatrix}\n",
    "$$\n",
    "Determinanten berechenen:\n",
    "$$\n",
    "det(\n",
    "\\begin{pmatrix}\n",
    "802 & -400 \\\\\n",
    "0 & 200\n",
    "\\end{pmatrix} -\n",
    "\\begin{pmatrix}\n",
    "\\lambda & 0 \\\\\n",
    "0 & \\lambda \n",
    "\\end{pmatrix}\n",
    ")=\\lambda^2-1002\\lambda+160400\n",
    "$$\n",
    "$$\n",
    "\\lambda_1=200\n",
    "$$\n",
    "$$\n",
    "\\lambda_2=802\n",
    "$$\n",
    "Hessematrix ist positiv definit, daher besitzt die Funktion an der Stelle ein Minimum."
   ]
  },
  {
   "cell_type": "code",
   "execution_count": 1,
   "id": "initial_id",
   "metadata": {
    "ExecuteTime": {
     "end_time": "2025-01-10T23:14:04.516024Z",
     "start_time": "2025-01-10T23:14:04.513548Z"
    }
   },
   "outputs": [],
   "source": [
    "from sympy import *\n",
    "import numpy as np\n",
    "\n",
    "x = Symbol('x')\n",
    "y = Symbol('y')\n",
    "f = 100*(y-x**2)**2+(1-x)**2"
   ]
  },
  {
   "cell_type": "code",
   "execution_count": 7,
   "id": "c11e8192a3b06426",
   "metadata": {
    "ExecuteTime": {
     "end_time": "2025-01-10T23:14:06.356130Z",
     "start_time": "2025-01-10T23:14:06.350280Z"
    }
   },
   "outputs": [
    {
     "data": {
      "text/latex": [
       "$\\displaystyle \\left[\\begin{matrix}802 & -400\\\\-400 & 200\\end{matrix}\\right]$"
      ],
      "text/plain": [
       "Matrix([\n",
       "[ 802, -400],\n",
       "[-400,  200]])"
      ]
     },
     "execution_count": 7,
     "metadata": {},
     "output_type": "execute_result"
    }
   ],
   "source": [
    "def hessian_manual(f, varlist):\n",
    "    hessian = zeros(len(varlist))\n",
    "    for i, a in enumerate(varlist):\n",
    "        for j, b in enumerate(varlist):\n",
    "            hessian[i, j] = f.diff(a).diff(b)\n",
    "    return hessian\n",
    "\n",
    "hessian_manual(f, [x, y]).subs([[x, 1], [y, 1]])"
   ]
  },
  {
   "cell_type": "code",
   "execution_count": 3,
   "id": "6c6f74d3f983b7c5",
   "metadata": {
    "ExecuteTime": {
     "end_time": "2025-01-10T23:14:08.294520Z",
     "start_time": "2025-01-10T23:14:08.287026Z"
    }
   },
   "outputs": [
    {
     "data": {
      "text/plain": [
       "(0.9688711084643263, 0.938584307960158, 5001)"
      ]
     },
     "execution_count": 3,
     "metadata": {},
     "output_type": "execute_result"
    }
   ],
   "source": [
    "def gradient_descent(f, start, learning_rate, iterations):\n",
    "    grad_x = diff(f, x)\n",
    "    grad_y = diff(f, y)\n",
    "    \n",
    "    grad_x_func = lambdify((x, y), grad_x)\n",
    "    grad_y_func = lambdify((x, y), grad_y)\n",
    "    \n",
    "    current_x, current_y = start\n",
    "    trajectory = [(current_x, current_y)]\n",
    "    for _ in range(iterations):\n",
    "        grad_x_val = grad_x_func(current_x, current_y)\n",
    "        grad_y_val = grad_y_func(current_x, current_y)\n",
    "        \n",
    "        current_x -= learning_rate * grad_x_val\n",
    "        current_y -= learning_rate * grad_y_val\n",
    "        \n",
    "        trajectory.append((current_x, current_y))\n",
    "\n",
    "    return current_x, current_y, trajectory\n",
    "\n",
    "min_x, min_y, trajectory = gradient_descent(f, (0.5, 0.5), 0.001, 5000)\n",
    "min_x, min_y, len(trajectory)"
   ]
  },
  {
   "cell_type": "code",
   "execution_count": 6,
   "id": "3f5602f940566f8f",
   "metadata": {
    "ExecuteTime": {
     "end_time": "2025-01-10T23:27:22.633744Z",
     "start_time": "2025-01-10T23:27:22.621562Z"
    }
   },
   "outputs": [
    {
     "name": "stdout",
     "output_type": "stream",
     "text": [
      "Matrix([[-0.0102040816326530], [-0.260204081632653]])\n",
      "Matrix([[0.499796001631996], [0.489700206513309]])\n",
      "Matrix([[0.000204243360061640], [0.250200278404992]])\n",
      "Matrix([[0.0102037515099906], [0.0201993099082730]])\n",
      "Matrix([[8.33940742052397e-8], [0.000104283333011899]])\n"
     ]
    },
    {
     "data": {
      "text/plain": [
       "(0.999999998263470, 0.999999996526933, 6)"
      ]
     },
     "execution_count": 6,
     "metadata": {},
     "output_type": "execute_result"
    }
   ],
   "source": [
    "def newton(f, start, learning_rate, iterations):\n",
    "    gradient = Matrix([f.diff(x), f.diff(y)])\n",
    "    hessian = hessian_manual(f, [x, y])\n",
    "    \n",
    "    gradient_func = lambdify((x, y), gradient)\n",
    "    hessian_func = lambdify((x, y), hessian,)\n",
    "\n",
    "    current = Matrix(start)\n",
    "    trajectory = [tuple(current)]\n",
    "\n",
    "    for _ in range(iterations):\n",
    "        gradient_val = Matrix(gradient_func(current[0], current[1]))\n",
    "        hessian_val = Matrix(hessian_func(current[0], current[1]))\n",
    "\n",
    "        delta = -hessian_val.inv() * gradient_val\n",
    "\n",
    "        current += delta\n",
    "        print(delta)\n",
    "        trajectory.append(tuple(current))\n",
    "\n",
    "    return current[0], current[1], trajectory\n",
    "\n",
    "min_x, min_y, trajectory = newton(f, (0.5, 0.5), 1, 5)\n",
    "min_x, min_y, len(trajectory) #TODO: sollte schneller konvergieren, es muss ein Fehler sein"
   ]
  },
  {
   "cell_type": "code",
   "execution_count": 5,
   "id": "b0b0c17a-911f-43a1-9507-c731ce34b0ee",
   "metadata": {},
   "outputs": [
    {
     "data": {
      "text/plain": [
       "[[1200*x**2 - 400*y + 2, -400*x], [-400*x, 200]]"
      ]
     },
     "execution_count": 5,
     "metadata": {},
     "output_type": "execute_result"
    }
   ],
   "source": [
    "[[f.diff(a).diff(b) for a in [x, y]] for b in [x, y]]"
   ]
  },
  {
   "cell_type": "code",
   "execution_count": null,
   "id": "d95b7008-6df7-4142-885f-8438145878ee",
   "metadata": {},
   "outputs": [],
   "source": []
  }
 ],
 "metadata": {
  "kernelspec": {
   "display_name": "Python 3 (ipykernel)",
   "language": "python",
   "name": "python3"
  },
  "language_info": {
   "codemirror_mode": {
    "name": "ipython",
    "version": 3
   },
   "file_extension": ".py",
   "mimetype": "text/x-python",
   "name": "python",
   "nbconvert_exporter": "python",
   "pygments_lexer": "ipython3",
   "version": "3.10.14"
  }
 },
 "nbformat": 4,
 "nbformat_minor": 5
}
