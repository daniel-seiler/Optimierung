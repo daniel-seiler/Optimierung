{
 "cells": [
  {
   "cell_type": "code",
   "execution_count": 1,
   "id": "initial_id",
   "metadata": {
    "ExecuteTime": {
     "end_time": "2024-12-01T16:46:42.433488Z",
     "start_time": "2024-12-01T16:46:42.430933Z"
    }
   },
   "outputs": [],
   "source": [
    "import numpy as np\n",
    "A = np.matrix([[1,2,4],[2,3,8],[-1,-3,-1]])\n",
    "Q, R = np.linalg.qr(A)"
   ]
  },
  {
   "cell_type": "code",
   "execution_count": 2,
   "id": "dab49ab164ba49fb",
   "metadata": {
    "ExecuteTime": {
     "end_time": "2024-12-01T16:46:42.483272Z",
     "start_time": "2024-12-01T16:46:42.481042Z"
    }
   },
   "outputs": [],
   "source": [
    "def qr_iteration(A, iter):\n",
    "    n = A.shape[0]\n",
    "    U = np.eye(n)\n",
    "    for i in range(iter):\n",
    "        Q, R = np.linalg.qr(A)\n",
    "        A = R @ Q\n",
    "        U = U @ Q \n",
    "    return A, U"
   ]
  },
  {
   "cell_type": "code",
   "execution_count": 3,
   "id": "cdb2b045418f734f",
   "metadata": {
    "ExecuteTime": {
     "end_time": "2024-12-01T16:46:42.535263Z",
     "start_time": "2024-12-01T16:46:42.532242Z"
    }
   },
   "outputs": [
    {
     "data": {
      "text/plain": [
       "matrix([[ 2, -1],\n",
       "        [-1,  4]])"
      ]
     },
     "execution_count": 3,
     "metadata": {},
     "output_type": "execute_result"
    }
   ],
   "source": [
    "B = np.matrix([[2, -1], [-1, 4]])\n",
    "B"
   ]
  },
  {
   "cell_type": "code",
   "execution_count": 4,
   "id": "33403e251ac3ffb6",
   "metadata": {
    "ExecuteTime": {
     "end_time": "2024-12-01T16:46:42.676723Z",
     "start_time": "2024-12-01T16:46:42.650096Z"
    }
   },
   "outputs": [
    {
     "data": {
      "text/plain": [
       "matrix([[ 2., -1.],\n",
       "        [-1.,  4.]])"
      ]
     },
     "execution_count": 4,
     "metadata": {},
     "output_type": "execute_result"
    }
   ],
   "source": [
    "B_diagonal, U = qr_iteration(B, 1000)\n",
    "U @ B_diagonal @ U.transpose()"
   ]
  },
  {
   "cell_type": "code",
   "execution_count": 5,
   "id": "1694497edc8f9ecf",
   "metadata": {
    "ExecuteTime": {
     "end_time": "2024-12-01T16:46:42.790340Z",
     "start_time": "2024-12-01T16:46:42.787615Z"
    }
   },
   "outputs": [
    {
     "data": {
      "text/plain": [
       "matrix([[ 4.41421356e+00, -4.86976762e-16],\n",
       "        [ 0.00000000e+00,  1.58578644e+00]])"
      ]
     },
     "execution_count": 5,
     "metadata": {},
     "output_type": "execute_result"
    }
   ],
   "source": [
    "B_diagonal"
   ]
  },
  {
   "cell_type": "code",
   "execution_count": 6,
   "id": "4fcf0c184a11d758",
   "metadata": {
    "ExecuteTime": {
     "end_time": "2024-12-01T16:46:42.872594Z",
     "start_time": "2024-12-01T16:46:42.869653Z"
    }
   },
   "outputs": [
    {
     "data": {
      "text/plain": [
       "array([1.58578644, 4.41421356])"
      ]
     },
     "execution_count": 6,
     "metadata": {},
     "output_type": "execute_result"
    }
   ],
   "source": [
    "np.linalg.eig(B)[0]"
   ]
  }
 ],
 "metadata": {
  "kernelspec": {
   "display_name": "Python 3 (ipykernel)",
   "language": "python",
   "name": "python3"
  },
  "language_info": {
   "codemirror_mode": {
    "name": "ipython",
    "version": 3
   },
   "file_extension": ".py",
   "mimetype": "text/x-python",
   "name": "python",
   "nbconvert_exporter": "python",
   "pygments_lexer": "ipython3",
   "version": "3.10.14"
  }
 },
 "nbformat": 4,
 "nbformat_minor": 5
}
