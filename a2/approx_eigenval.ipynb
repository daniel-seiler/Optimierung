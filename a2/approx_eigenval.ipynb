{
 "cells": [
  {
   "cell_type": "code",
   "id": "initial_id",
   "metadata": {
    "collapsed": true,
    "ExecuteTime": {
     "end_time": "2024-12-01T16:46:42.433488Z",
     "start_time": "2024-12-01T16:46:42.430933Z"
    }
   },
   "source": [
    "import numpy as np\n",
    "A = np.matrix([[1,2,4],[2,3,8],[-1,-3,-1]])\n",
    "Q, R = np.linalg.qr(A)"
   ],
   "outputs": [],
   "execution_count": 16
  },
  {
   "metadata": {
    "ExecuteTime": {
     "end_time": "2024-12-01T16:46:42.483272Z",
     "start_time": "2024-12-01T16:46:42.481042Z"
    }
   },
   "cell_type": "code",
   "source": [
    "def qr_iteration(A, iter):\n",
    "    n = A.shape[0]\n",
    "    U = np.eye(n)\n",
    "    for i in range(iter):\n",
    "        Q, R = np.linalg.qr(A)\n",
    "        A = R @ Q\n",
    "        U = U @ Q \n",
    "    return A, U"
   ],
   "id": "dab49ab164ba49fb",
   "outputs": [],
   "execution_count": 17
  },
  {
   "metadata": {
    "ExecuteTime": {
     "end_time": "2024-12-01T16:46:42.535263Z",
     "start_time": "2024-12-01T16:46:42.532242Z"
    }
   },
   "cell_type": "code",
   "source": [
    "B = np.matrix([[2, -1], [-1, 4]])\n",
    "B"
   ],
   "id": "cdb2b045418f734f",
   "outputs": [
    {
     "data": {
      "text/plain": [
       "matrix([[ 2, -1],\n",
       "        [-1,  4]])"
      ]
     },
     "execution_count": 18,
     "metadata": {},
     "output_type": "execute_result"
    }
   ],
   "execution_count": 18
  },
  {
   "metadata": {
    "ExecuteTime": {
     "end_time": "2024-12-01T16:46:42.676723Z",
     "start_time": "2024-12-01T16:46:42.650096Z"
    }
   },
   "cell_type": "code",
   "source": [
    "B_diagonal, U = qr_iteration(B, 1000)\n",
    "U @ B_diagonal @ U.transpose()"
   ],
   "id": "33403e251ac3ffb6",
   "outputs": [
    {
     "data": {
      "text/plain": [
       "matrix([[ 2., -1.],\n",
       "        [-1.,  4.]])"
      ]
     },
     "execution_count": 19,
     "metadata": {},
     "output_type": "execute_result"
    }
   ],
   "execution_count": 19
  },
  {
   "metadata": {
    "ExecuteTime": {
     "end_time": "2024-12-01T16:46:42.790340Z",
     "start_time": "2024-12-01T16:46:42.787615Z"
    }
   },
   "cell_type": "code",
   "source": "B_diagonal",
   "id": "1694497edc8f9ecf",
   "outputs": [
    {
     "data": {
      "text/plain": [
       "matrix([[ 4.41421356e+00, -4.86976762e-16],\n",
       "        [ 0.00000000e+00,  1.58578644e+00]])"
      ]
     },
     "execution_count": 20,
     "metadata": {},
     "output_type": "execute_result"
    }
   ],
   "execution_count": 20
  },
  {
   "metadata": {
    "ExecuteTime": {
     "end_time": "2024-12-01T16:46:42.872594Z",
     "start_time": "2024-12-01T16:46:42.869653Z"
    }
   },
   "cell_type": "code",
   "source": "np.linalg.eig(B)[0]",
   "id": "4fcf0c184a11d758",
   "outputs": [
    {
     "data": {
      "text/plain": [
       "array([1.58578644, 4.41421356])"
      ]
     },
     "execution_count": 21,
     "metadata": {},
     "output_type": "execute_result"
    }
   ],
   "execution_count": 21
  }
 ],
 "metadata": {
  "kernelspec": {
   "display_name": "Python 3",
   "language": "python",
   "name": "python3"
  },
  "language_info": {
   "codemirror_mode": {
    "name": "ipython",
    "version": 2
   },
   "file_extension": ".py",
   "mimetype": "text/x-python",
   "name": "python",
   "nbconvert_exporter": "python",
   "pygments_lexer": "ipython2",
   "version": "2.7.6"
  }
 },
 "nbformat": 4,
 "nbformat_minor": 5
}
