{
 "cells": [
  {
   "cell_type": "code",
   "execution_count": 1,
   "id": "4f1a757c-331a-43fe-b16d-e748992dfc4a",
   "metadata": {},
   "outputs": [],
   "source": [
    "import numpy as np\n",
    "\n",
    "def solveUpper(R, b):\n",
    "    n = R.shape[1]\n",
    "    x = np.zeros_like(b, dtype=float)\n",
    "    \n",
    "    for i in range(n - 1, -1, -1):\n",
    "        sum_Rx = np.sum(R[i, i:] * x[i:])\n",
    "        x[i] = (b[i] - sum_Rx) / R[i, i]\n",
    "    return x"
   ]
  },
  {
   "cell_type": "code",
   "execution_count": 2,
   "id": "38067cd1-d187-4e49-961e-a52900663bbe",
   "metadata": {},
   "outputs": [],
   "source": [
    "def myQRSolver(A, b):\n",
    "    Q, R = np.linalg.qr(A)\n",
    "    return solveUpper(R, Q.transpose() @ b)"
   ]
  },
  {
   "cell_type": "code",
   "execution_count": 3,
   "id": "265c76af-dea7-4954-b019-9149bc7342d1",
   "metadata": {},
   "outputs": [
    {
     "data": {
      "text/plain": [
       "array([0.6, 0.2])"
      ]
     },
     "execution_count": 3,
     "metadata": {},
     "output_type": "execute_result"
    }
   ],
   "source": [
    "A = np.array([[1, 2], [3, 1]])\n",
    "b = np.array([1, 2])\n",
    "\n",
    "myQRSolver(A, b)"
   ]
  },
  {
   "cell_type": "code",
   "execution_count": 4,
   "id": "5e66acb5-9c7e-4183-907e-2c24a1a61984",
   "metadata": {},
   "outputs": [
    {
     "data": {
      "text/plain": [
       "array([0.6, 0.2])"
      ]
     },
     "execution_count": 4,
     "metadata": {},
     "output_type": "execute_result"
    }
   ],
   "source": [
    "np.linalg.solve(A, b)"
   ]
  }
 ],
 "metadata": {
  "kernelspec": {
   "display_name": "Python 3 (ipykernel)",
   "language": "python",
   "name": "python3"
  },
  "language_info": {
   "codemirror_mode": {
    "name": "ipython",
    "version": 3
   },
   "file_extension": ".py",
   "mimetype": "text/x-python",
   "name": "python",
   "nbconvert_exporter": "python",
   "pygments_lexer": "ipython3",
   "version": "3.10.14"
  }
 },
 "nbformat": 4,
 "nbformat_minor": 5
}
